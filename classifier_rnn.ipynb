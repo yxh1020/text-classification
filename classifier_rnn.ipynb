{
 "cells": [
  {
   "cell_type": "markdown",
   "metadata": {
    "colab_type": "text",
    "id": "7Ksdj0GDZqCu"
   },
   "source": [
    "# Mounting google drive"
   ]
  },
  {
   "cell_type": "code",
   "execution_count": 0,
   "metadata": {
    "colab": {
     "base_uri": "https://localhost:8080/",
     "height": 54
    },
    "colab_type": "code",
    "executionInfo": {
     "elapsed": 1323,
     "status": "ok",
     "timestamp": 1572831836397,
     "user": {
      "displayName": "Yuan Hu",
      "photoUrl": "",
      "userId": "14204862805009818583"
     },
     "user_tz": 480
    },
    "id": "G7R8JkddZc43",
    "outputId": "3d49a9a6-2291-49be-8e87-a1908d55325d"
   },
   "outputs": [
    {
     "name": "stdout",
     "output_type": "stream",
     "text": [
      "Drive already mounted at /content/drive; to attempt to forcibly remount, call drive.mount(\"/content/drive\", force_remount=True).\n"
     ]
    }
   ],
   "source": [
    "from google.colab import drive\n",
    "drive.mount('/content/drive')"
   ]
  },
  {
   "cell_type": "markdown",
   "metadata": {
    "colab_type": "text",
    "id": "op6gp9fPFDde"
   },
   "source": [
    "# Load modules"
   ]
  },
  {
   "cell_type": "code",
   "execution_count": 0,
   "metadata": {
    "colab": {
     "base_uri": "https://localhost:8080/",
     "height": 101
    },
    "colab_type": "code",
    "executionInfo": {
     "elapsed": 1310,
     "status": "ok",
     "timestamp": 1572831836398,
     "user": {
      "displayName": "Yuan Hu",
      "photoUrl": "",
      "userId": "14204862805009818583"
     },
     "user_tz": 480
    },
    "id": "ZIleMOl9jggG",
    "outputId": "edf5796a-01f6-40fe-d6ae-20cc0e974d39"
   },
   "outputs": [
    {
     "name": "stdout",
     "output_type": "stream",
     "text": [
      "[nltk_data] Downloading package stopwords to /root/nltk_data...\n",
      "[nltk_data]   Package stopwords is already up-to-date!\n",
      "[nltk_data] Downloading package wordnet to /root/nltk_data...\n",
      "[nltk_data]   Package wordnet is already up-to-date!\n",
      "2.0.0-alpha0\n"
     ]
    }
   ],
   "source": [
    "import os\n",
    "import sys\n",
    "import numpy as np\n",
    "import pandas as pd\n",
    "import matplotlib.pyplot as plt\n",
    "from sklearn.metrics import roc_auc_score\n",
    "%matplotlib inline\n",
    "\n",
    "import re\n",
    "import nltk\n",
    "nltk.download('stopwords')\n",
    "nltk.download('wordnet')\n",
    "from nltk.corpus import stopwords\n",
    "from nltk.stem import WordNetLemmatizer\n",
    "\n",
    "import tensorflow as tf\n",
    "from tensorflow.keras.utils import plot_model\n",
    "from tensorflow.keras.preprocessing.text import Tokenizer\n",
    "from tensorflow.keras.preprocessing.sequence import pad_sequences\n",
    "from tensorflow.keras.layers import Embedding,Dense, Input, Dropout\n",
    "from tensorflow.keras.layers import LSTM\n",
    "from tensorflow.keras.models import Model\n",
    "from tensorflow.keras.callbacks import EarlyStopping\n",
    "\n",
    "print(tf.__version__)"
   ]
  },
  {
   "cell_type": "markdown",
   "metadata": {
    "colab_type": "text",
    "id": "VfjyLO-UFKCW"
   },
   "source": [
    "#  Load and explore data"
   ]
  },
  {
   "cell_type": "code",
   "execution_count": 0,
   "metadata": {
    "colab": {},
    "colab_type": "code",
    "id": "utODaNdpX0Ov"
   },
   "outputs": [],
   "source": [
    "# generate new csv file (run once)\n",
    "df = pd.read_csv('/content/drive/My Drive/Colab Notebooks/text-classification/consumer_complaints.csv')   \n",
    "df = df[pd.notnull(df['consumer_complaint_narrative'])]\n",
    "df = df[['product', 'consumer_complaint_narrative']]\n",
    "df = df.reset_index(drop=True)"
   ]
  },
  {
   "cell_type": "code",
   "execution_count": 0,
   "metadata": {
    "colab": {
     "base_uri": "https://localhost:8080/",
     "height": 195
    },
    "colab_type": "code",
    "executionInfo": {
     "elapsed": 3655,
     "status": "ok",
     "timestamp": 1572831838763,
     "user": {
      "displayName": "Yuan Hu",
      "photoUrl": "",
      "userId": "14204862805009818583"
     },
     "user_tz": 480
    },
    "id": "ZHCH4z3R5gKm",
    "outputId": "de1c29e5-e61a-46e3-d02e-0ea5bfbdc26e"
   },
   "outputs": [
    {
     "data": {
      "text/html": [
       "<div>\n",
       "<style scoped>\n",
       "    .dataframe tbody tr th:only-of-type {\n",
       "        vertical-align: middle;\n",
       "    }\n",
       "\n",
       "    .dataframe tbody tr th {\n",
       "        vertical-align: top;\n",
       "    }\n",
       "\n",
       "    .dataframe thead th {\n",
       "        text-align: right;\n",
       "    }\n",
       "</style>\n",
       "<table border=\"1\" class=\"dataframe\">\n",
       "  <thead>\n",
       "    <tr style=\"text-align: right;\">\n",
       "      <th></th>\n",
       "      <th>product</th>\n",
       "      <th>consumer_complaint_narrative</th>\n",
       "    </tr>\n",
       "  </thead>\n",
       "  <tbody>\n",
       "    <tr>\n",
       "      <th>0</th>\n",
       "      <td>Debt collection</td>\n",
       "      <td>XXXX has claimed I owe them {$27.00} for XXXX ...</td>\n",
       "    </tr>\n",
       "    <tr>\n",
       "      <th>1</th>\n",
       "      <td>Consumer Loan</td>\n",
       "      <td>Due to inconsistencies in the amount owed that...</td>\n",
       "    </tr>\n",
       "    <tr>\n",
       "      <th>2</th>\n",
       "      <td>Mortgage</td>\n",
       "      <td>In XX/XX/XXXX my wages that I earned at my job...</td>\n",
       "    </tr>\n",
       "    <tr>\n",
       "      <th>3</th>\n",
       "      <td>Mortgage</td>\n",
       "      <td>I have an open and current mortgage with Chase...</td>\n",
       "    </tr>\n",
       "    <tr>\n",
       "      <th>4</th>\n",
       "      <td>Mortgage</td>\n",
       "      <td>XXXX was submitted XX/XX/XXXX. At the time I s...</td>\n",
       "    </tr>\n",
       "  </tbody>\n",
       "</table>\n",
       "</div>"
      ],
      "text/plain": [
       "           product                       consumer_complaint_narrative\n",
       "0  Debt collection  XXXX has claimed I owe them {$27.00} for XXXX ...\n",
       "1    Consumer Loan  Due to inconsistencies in the amount owed that...\n",
       "2         Mortgage  In XX/XX/XXXX my wages that I earned at my job...\n",
       "3         Mortgage  I have an open and current mortgage with Chase...\n",
       "4         Mortgage  XXXX was submitted XX/XX/XXXX. At the time I s..."
      ]
     },
     "execution_count": 6,
     "metadata": {
      "tags": []
     },
     "output_type": "execute_result"
    }
   ],
   "source": [
    "df.head()"
   ]
  },
  {
   "cell_type": "code",
   "execution_count": 0,
   "metadata": {
    "colab": {
     "base_uri": "https://localhost:8080/",
     "height": 134
    },
    "colab_type": "code",
    "executionInfo": {
     "elapsed": 3628,
     "status": "ok",
     "timestamp": 1572831838765,
     "user": {
      "displayName": "Yuan Hu",
      "photoUrl": "",
      "userId": "14204862805009818583"
     },
     "user_tz": 480
    },
    "id": "WsKGywrgg1s_",
    "outputId": "058a6204-bc25-4021-c854-991268b30896"
   },
   "outputs": [
    {
     "name": "stdout",
     "output_type": "stream",
     "text": [
      "<class 'pandas.core.frame.DataFrame'>\n",
      "RangeIndex: 66806 entries, 0 to 66805\n",
      "Data columns (total 2 columns):\n",
      "product                         66806 non-null object\n",
      "consumer_complaint_narrative    66806 non-null object\n",
      "dtypes: object(2)\n",
      "memory usage: 1.0+ MB\n"
     ]
    }
   ],
   "source": [
    "df.info()"
   ]
  },
  {
   "cell_type": "code",
   "execution_count": 0,
   "metadata": {
    "colab": {
     "base_uri": "https://localhost:8080/",
     "height": 235
    },
    "colab_type": "code",
    "executionInfo": {
     "elapsed": 3618,
     "status": "ok",
     "timestamp": 1572831838765,
     "user": {
      "displayName": "Yuan Hu",
      "photoUrl": "",
      "userId": "14204862805009818583"
     },
     "user_tz": 480
    },
    "id": "_9V6U6CL7QlF",
    "outputId": "74e92aa2-39a9-42db-f483-37564bc73414"
   },
   "outputs": [
    {
     "name": "stdout",
     "output_type": "stream",
     "text": [
      "Number of different products:  11\n",
      "Debt collection            17552\n",
      "Mortgage                   14919\n",
      "Credit reporting           12526\n",
      "Credit card                 7929\n",
      "Bank account or service     5711\n",
      "Consumer Loan               3678\n",
      "Student loan                2128\n",
      "Prepaid card                 861\n",
      "Payday loan                  726\n",
      "Money transfers              666\n",
      "Other financial service      110\n",
      "Name: product, dtype: int64\n"
     ]
    }
   ],
   "source": [
    "labels = df['product'].value_counts()\n",
    "n_labels = len(labels)\n",
    "print(\"Number of different products: \", n_labels)\n",
    "print(labels)"
   ]
  },
  {
   "cell_type": "code",
   "execution_count": 0,
   "metadata": {
    "colab": {
     "base_uri": "https://localhost:8080/",
     "height": 695
    },
    "colab_type": "code",
    "executionInfo": {
     "elapsed": 4285,
     "status": "ok",
     "timestamp": 1572831839455,
     "user": {
      "displayName": "Yuan Hu",
      "photoUrl": "",
      "userId": "14204862805009818583"
     },
     "user_tz": 480
    },
    "id": "iWMvJR0n7lsh",
    "outputId": "e73d83a7-21de-4ab2-e9bc-f483c219e73e"
   },
   "outputs": [
    {
     "data": {
      "image/png": "[encoded data removed]",
      "text/plain": [
       "<Figure size 1152x648 with 1 Axes>"
      ]
     },
     "metadata": {
      "tags": []
     },
     "output_type": "display_data"
    }
   ],
   "source": [
    "fig = plt.figure(figsize=(16, 9))\n",
    "plt.bar(labels.index, labels, width=0.8, align='center', color='green')\n",
    "plt.xlabel(\"Products\", fontsize=18)\n",
    "plt.ylabel(\"No. of complaints\", fontsize=18)\n",
    "plt.title(\"Complaints distribution\", fontsize=18, pad=20)\n",
    "plt.xticks(rotation=315, ha=\"left\", fontsize=12)\n",
    "plt.yticks(fontsize=12)\n",
    "plt.show()"
   ]
  },
  {
   "cell_type": "code",
   "execution_count": 0,
   "metadata": {
    "colab": {},
    "colab_type": "code",
    "id": "1c0FR4WX25ne"
   },
   "outputs": [],
   "source": [
    "def print_text(index, df):\n",
    "    sample = df[df.index == index].values[0]\n",
    "    if len(sample) > 0:\n",
    "        print('Product:', sample[0])\n",
    "        print(sample[1])       \n",
    "    else:\n",
    "      print('Empty!')"
   ]
  },
  {
   "cell_type": "code",
   "execution_count": 0,
   "metadata": {
    "colab": {
     "base_uri": "https://localhost:8080/",
     "height": 222
    },
    "colab_type": "code",
    "executionInfo": {
     "elapsed": 4245,
     "status": "ok",
     "timestamp": 1572831839457,
     "user": {
      "displayName": "Yuan Hu",
      "photoUrl": "",
      "userId": "14204862805009818583"
     },
     "user_tz": 480
    },
    "id": "NvG66qou2_bV",
    "outputId": "89cf0ccb-1298-44a8-f558-3d2c732d8d81"
   },
   "outputs": [
    {
     "name": "stdout",
     "output_type": "stream",
     "text": [
      "Product: Debt collection\n",
      "XXXX has claimed I owe them {$27.00} for XXXX years despite the PROOF of PAYMENT I sent them : canceled check and their ownPAID INVOICE for {$27.00}! \n",
      "They continue to insist I owe them and collection agencies are after me. \n",
      "How can I stop this harassment for a bill I already paid four years ago? \n",
      "\n",
      "Product: Mortgage\n",
      "I am very disappointed that the CFPB did not help to resolve this fraudulant loan. # XXXX between XXXX XXXX and XXXX, FF ( AKA ) One West. Case # XXXX with CFPB. \n",
      "\n",
      "Product: Credit reporting\n",
      "I have been disputing incorrect information on my Experian XXXX XXXX XXXX credit report but they are unwilling to allow me to dispute their \" investigation results ''. The creditors are XXXX XXXX and XXXX XXXX XXXX. The report reflects late payments and the information is inaccurate. XXXX creditors have agreed to have the items corrected on all XXXX credit bureaus but only XXXX made the correction. \n",
      "\n"
     ]
    }
   ],
   "source": [
    "print_text(0, df)\n",
    "print_text(10, df)\n",
    "print_text(20, df)"
   ]
  },
  {
   "cell_type": "code",
   "execution_count": 0,
   "metadata": {
    "colab": {
     "base_uri": "https://localhost:8080/",
     "height": 121
    },
    "colab_type": "code",
    "executionInfo": {
     "elapsed": 6358,
     "status": "ok",
     "timestamp": 1572831841588,
     "user": {
      "displayName": "Yuan Hu",
      "photoUrl": "",
      "userId": "14204862805009818583"
     },
     "user_tz": 480
    },
    "id": "kV20o7rsWX_d",
    "outputId": "3a68ba45-20ab-4709-f89b-de286c1d477b"
   },
   "outputs": [
    {
     "name": "stdout",
     "output_type": "stream",
     "text": [
      "Total number of words before text preprocessing: 12736164\n",
      "Total number of unique words before text preprocessing:  132961\n",
      "['!', '!!', '!!!!', '!!!)..........I', '!.', '\"', '\"!', '\"!!', '\",', '\".', '\"...', '\"...a', '\"???', '\"ACCOUNT', '\"Account', '\"Alt-A\"', '\"Answer\"', '\"At', '\"BAIT', '\"CONTACT', '\"CURRENT', '\"Consumer', '\"Do', '\"Dual', '\"ENHANCRCVRCO\"', '\"Everyday', '\"Fresh', '\"Good', '\"Hold', '\"How', '\"I', '\"If...the', '\"In', '\"Incomplete\"', '\"Investor\"', '\"Investor\",', '\"Investor\".', '\"Is', '\"It', '\"Know', '\"MRS', '\"No.Never.', '\"Okay,', '\"Pay', '\"Previous', '\"Re-entry\"', '\"Release', '\"Right', '\"She', '\"Single']\n",
      "['\"The', '\"Unknown\"', '\"Well,', '\"XXXX', '\"XXXX\"', '\"You', '\"You\\'ll', '\"Your', '\"account\"', '\"agree', '\"anticipate', '\"any', '\"are', '\"attorney\"payments', '\"bad', '\"bed', '\"bounce\"', '\"canceled\",', '\"charged', '\"coding\"', '\"complicated', '\"core\"-', '\"courtesy', '\"credit', '\"credited\"', '\"cushion\"', '\"dedicated', '\"drive-by\"', '\"duplicate.\"', '\"dwelling\"!', '\"exceptions\"', '\"executive\"', '\"extension', '\"flagging\"', '\"for', '\"foreclosure\"', '\"found\"', '\"free', '\"free\"', '\"fresh', '\"hide\"', '\"housed\"', '\"if', '\"incomplete\"', '\"incomplete\".', '\"interest', '\"investigated\"', '\"legalization\"', '\"loan', '\"lost\"']\n",
      "['\"low', '\"modification', '\"mortgage', '\"move', '\"never', '\"never\"', '\"no', '\"no\"', '\"nobailout', '\"not', '\"nothing\"', '\"number', '\"office', '\"ordered\"', '\"own\"', '\"part', '\"pay', '\"please\"', '\"principal', '\"processing\".', '\"projected\"', '\"recent', '\"referred\"', '\"replacement', '\"results\"', '\"return', '\"robocalls\"', '\"sent', '\"she', '\"short', '\"shortage\"', '\"shortage\".', '\"show\"', '\"since', '\"special', '\"specialty\"', '\"student', '\"suit', '\"suspended\"', '\"temporarily\"', '\"the', '\"there', '\"they', '\"this', '\"tough', '\"transaction\".', '\"un-reimbursed', '\"unfair,', '\"unpaid', '\"up']\n"
     ]
    }
   ],
   "source": [
    "corpus_init = ' '.join(list(df['consumer_complaint_narrative']))\n",
    "words_init = corpus_init.split()\n",
    "n_words_init = len(words_init)\n",
    "unique_words_init = sorted(list(set(words_init)))\n",
    "n_unique_words_init = len(unique_words_init)\n",
    "print(\"Total number of words before text preprocessing:\", n_words_init)\n",
    "print(\"Total number of unique words before text preprocessing: \", n_unique_words_init)\n",
    "print(unique_words_init[:50])\n",
    "print(unique_words_init[50:100])\n",
    "print(unique_words_init[100:150])"
   ]
  },
  {
   "cell_type": "markdown",
   "metadata": {
    "colab_type": "text",
    "id": "fJQNyh0_G5A0"
   },
   "source": [
    "# Data Preparation"
   ]
  },
  {
   "cell_type": "markdown",
   "metadata": {
    "colab_type": "text",
    "id": "wuyrTbxV2iyG"
   },
   "source": [
    "## Text preprocessing"
   ]
  },
  {
   "cell_type": "code",
   "execution_count": 0,
   "metadata": {
    "colab": {},
    "colab_type": "code",
    "id": "gv5DShctTq1Y"
   },
   "outputs": [],
   "source": [
    "def lemmatize_verbs(words):\n",
    "    \"\"\"Lemmatize verbs in list of tokenized words\"\"\"\n",
    "    lemmatizer = WordNetLemmatizer()\n",
    "    lemmas = []\n",
    "    for word in words:\n",
    "        lemma = lemmatizer.lemmatize(word, pos='v')\n",
    "        lemmas.append(lemma)\n",
    "    return lemmas"
   ]
  },
  {
   "cell_type": "code",
   "execution_count": 0,
   "metadata": {
    "colab": {},
    "colab_type": "code",
    "id": "87pvWjEP2kdk"
   },
   "outputs": [],
   "source": [
    "stop_words = stopwords.words('english')\n",
    "\n",
    "def text_prepocessing(text):\n",
    "  # noise removal  \n",
    "  text = re.sub(r'[xX]', '', text) # remove 'x'\n",
    "  \n",
    "  # normalization\n",
    "  text = text.lower() # convert to lowercase text\n",
    "  text = re.sub(r'\\-',' ', text) # seperate words like 'video-related'\n",
    "  text = re.sub(r'[-+]?\\d*\\.?\\d+', ' NUMBER ', text) # replace numbers with \"NUMBER\"\n",
    "  text = re.sub(r'[^a-zA-Z0-9\\s]', '', text) # remove punctuation  \n",
    "  \n",
    "  text = ' '.join(word for word in text.split() if word not in stop_words) # remove stop words\n",
    "  text = ' '.join(lemmatize_verbs(text.split())) # Lemmatization\n",
    "  \n",
    "  return text"
   ]
  },
  {
   "cell_type": "code",
   "execution_count": 0,
   "metadata": {
    "colab": {},
    "colab_type": "code",
    "id": "hi8MTeZv2ku2"
   },
   "outputs": [],
   "source": [
    "df['consumer_complaint_narrative'] = df['consumer_complaint_narrative'].apply(text_prepocessing)"
   ]
  },
  {
   "cell_type": "code",
   "execution_count": 0,
   "metadata": {
    "colab": {
     "base_uri": "https://localhost:8080/",
     "height": 138
    },
    "colab_type": "code",
    "executionInfo": {
     "elapsed": 57006,
     "status": "ok",
     "timestamp": 1572831892272,
     "user": {
      "displayName": "Yuan Hu",
      "photoUrl": "",
      "userId": "14204862805009818583"
     },
     "user_tz": 480
    },
    "id": "bja1rlTGP7HO",
    "outputId": "5057f7cb-c353-4fe3-b7e3-8bfe4e8a6279"
   },
   "outputs": [
    {
     "name": "stdout",
     "output_type": "stream",
     "text": [
      "Product: Debt collection\n",
      "claim owe NUMBER years despite proof payment send cancel check ownpaid invoice NUMBER continue insist owe collection agencies stop harassment bill already pay four years ago\n",
      "Product: Mortgage\n",
      "disappoint cfpb help resolve fraudulant loan ff aka one west case cfpb\n",
      "Product: Credit reporting\n",
      "dispute incorrect information eperian credit report unwilling allow dispute investigation result creditors report reflect late payments information inaccurate creditors agree items correct credit bureaus make correction\n"
     ]
    }
   ],
   "source": [
    "print_text(0,df)\n",
    "print_text(10,df)\n",
    "print_text(20, df)"
   ]
  },
  {
   "cell_type": "code",
   "execution_count": 0,
   "metadata": {
    "colab": {
     "base_uri": "https://localhost:8080/",
     "height": 121
    },
    "colab_type": "code",
    "executionInfo": {
     "elapsed": 57923,
     "status": "ok",
     "timestamp": 1572831893201,
     "user": {
      "displayName": "Yuan Hu",
      "photoUrl": "",
      "userId": "14204862805009818583"
     },
     "user_tz": 480
    },
    "id": "fXG1DqVrWyze",
    "outputId": "35e00911-7ef7-4afd-9506-9915ff1e7b2c"
   },
   "outputs": [
    {
     "name": "stdout",
     "output_type": "stream",
     "text": [
      "Total number of words: 5721264\n",
      "Total number of unique words:  50942\n",
      "['NUMBER', 'aa', 'aaa', 'aaaked', 'aaarm', 'aac', 'aacceptance', 'aaccount', 'aaccounts', 'aacount', 'aadhar', 'aadvantage', 'aafes', 'aafraid', 'aag', 'aagain', 'aagainst', 'aagon', 'aaii', 'aaliant', 'aallc', 'aallcdelete', 'aalthough', 'aamerican', 'aand', 'aapproved', 'aarea', 'aargon', 'aaround', 'aarp', 'aas', 'aasigned', 'aasked', 'aasking', 'aastra', 'aat', 'aattempting', 'ab', 'aba', 'aback', 'abalance', 'aballished', 'abanding', 'abandment', 'abandoment', 'abandon', 'abandonded', 'abandoneddistressed', 'abandonedempty', 'abandonment']\n",
      "['abank', 'abankruptcy', 'abarouting', 'abate', 'abatement', 'abatements', 'abbott', 'abbreviate', 'abbreviation', 'abbreviations', 'abbreviationssource', 'abc', 'abcd', 'abd', 'abdication', 'abduction', 'abel', 'aberrant', 'abet', 'abeyance', 'abhorrent', 'abide', 'abie', 'abilility', 'abilities', 'ability', 'abilitythe', 'abilityto', 'abill', 'abillionaire', 'abit', 'abject', 'abjection', 'abjectly', 'abjure', 'able', 'abled', 'ableempowered', 'ablet', 'ableto', 'abletowork', 'ablewilling', 'ableye', 'ablifgation', 'ablity', 'ablove', 'ablsolutely', 'abm', 'abmount', 'abnk']\n",
      "['abnoious', 'abnormal', 'abnormality', 'abnormally', 'abnove', 'aboa', 'aboard', 'abolish', 'abominably', 'abomination', 'aboout', 'abor', 'abort', 'abortive', 'aboth', 'abother', 'abou', 'abound', 'abount', 'abour', 'abouta', 'aboutand', 'abouti', 'aboutitems', 'aboutme', 'aboutmy', 'aboutpfccom', 'abouts', 'aboutscottradecomupdatescybersecurityhtmli', 'aboutthe', 'aboutthis', 'aboutwhat', 'aboutwhere', 'abouty', 'aboveboard', 'aboved', 'abovementioned', 'abovemy', 'abover', 'abovethen', 'aboveviolations', 'abovewhat', 'aboveyour', 'abpps', 'abrahamsen', 'abrasive', 'abrasiveness', 'abreast', 'abridge', 'abroad']\n"
     ]
    }
   ],
   "source": [
    "text_list = list(df['consumer_complaint_narrative'])\n",
    "corpus = ' '.join(text_list)\n",
    "words = corpus.split()\n",
    "n_words = len(words)\n",
    "unique_words = sorted(list(set(words)))\n",
    "n_unique_words = len(unique_words)\n",
    "print(\"Total number of words:\", n_words)\n",
    "print(\"Total number of unique words: \", n_unique_words)\n",
    "print(unique_words[:50])\n",
    "print(unique_words[50:100])\n",
    "print(unique_words[100:150])"
   ]
  },
  {
   "cell_type": "markdown",
   "metadata": {
    "colab_type": "text",
    "id": "fe5a-TuME32M"
   },
   "source": [
    "## Parameters configuration"
   ]
  },
  {
   "cell_type": "code",
   "execution_count": 0,
   "metadata": {
    "colab": {},
    "colab_type": "code",
    "id": "XYMdxEbZk8jC"
   },
   "outputs": [],
   "source": [
    "MAX_SEQUENCE_LENGTH = 250\n",
    "MAX_VOCAB_SIZE = 20000\n",
    "EMBEDDING_DIM = 100\n",
    "VALIDATION_SPLIT = 0.2\n",
    "BATCH_SIZE = 64\n",
    "EPOCHS = 20"
   ]
  },
  {
   "cell_type": "markdown",
   "metadata": {
    "colab_type": "text",
    "id": "v5e4VX-XEgpr"
   },
   "source": [
    "## Load pre-trained word vectors"
   ]
  },
  {
   "cell_type": "code",
   "execution_count": 0,
   "metadata": {
    "colab": {
     "base_uri": "https://localhost:8080/",
     "height": 50
    },
    "colab_type": "code",
    "executionInfo": {
     "elapsed": 70445,
     "status": "ok",
     "timestamp": 1572831905743,
     "user": {
      "displayName": "Yuan Hu",
      "photoUrl": "",
      "userId": "14204862805009818583"
     },
     "user_tz": 480
    },
    "id": "FuqGJ6-ZouWm",
    "outputId": "b6191b08-b50a-482a-e782-a94c058043f9"
   },
   "outputs": [
    {
     "name": "stdout",
     "output_type": "stream",
     "text": [
      "Loading word vectors...\n",
      "Found 400000 word vectors.\n"
     ]
    }
   ],
   "source": [
    "print('Loading word vectors...')\n",
    "word2vec = {}\n",
    "with open(os.path.join('/content/drive/My Drive/Colab Notebooks/text-classification/glove.6B.100d.txt')) as f:\n",
    "  # is a space-separated text file in the format: word vec[0] vec[1] vec[2] ...\n",
    "  for line in f:\n",
    "    values = line.split()\n",
    "    word = values[0]\n",
    "    vec = np.asarray(values[1:], dtype='float32')\n",
    "    word2vec[word] = vec\n",
    "print('Found %s word vectors.' % len(word2vec))"
   ]
  },
  {
   "cell_type": "markdown",
   "metadata": {
    "colab_type": "text",
    "id": "CIfyhORIFW9W"
   },
   "source": [
    "## Tokenization, padding"
   ]
  },
  {
   "cell_type": "code",
   "execution_count": 0,
   "metadata": {
    "colab": {},
    "colab_type": "code",
    "id": "rLmcI1tTlT3l"
   },
   "outputs": [],
   "source": [
    "# Prepare text and the labels\n",
    "X = df['consumer_complaint_narrative'].values\n",
    "y = pd.get_dummies(df['product']).values"
   ]
  },
  {
   "cell_type": "code",
   "execution_count": 0,
   "metadata": {
    "colab": {},
    "colab_type": "code",
    "id": "X_cS9CE7l3D7"
   },
   "outputs": [],
   "source": [
    "# Convert the sentences (strings) into integers\n",
    "tokenizer = Tokenizer(num_words=MAX_VOCAB_SIZE, lower=False)\n",
    "tokenizer.fit_on_texts(X)\n",
    "X = tokenizer.texts_to_sequences(X)"
   ]
  },
  {
   "cell_type": "code",
   "execution_count": 0,
   "metadata": {
    "colab": {
     "base_uri": "https://localhost:8080/",
     "height": 67
    },
    "colab_type": "code",
    "executionInfo": {
     "elapsed": 78446,
     "status": "ok",
     "timestamp": 1572831913777,
     "user": {
      "displayName": "Yuan Hu",
      "photoUrl": "",
      "userId": "14204862805009818583"
     },
     "user_tz": 480
    },
    "id": "dJv25Dy6h0ly",
    "outputId": "1043f33d-dec2-4e72-a9ae-ebbab55797a6"
   },
   "outputs": [
    {
     "name": "stdout",
     "output_type": "stream",
     "text": [
      "max sequence length: 402\n",
      "min sequence length: 0\n",
      "median sequence length: 61\n"
     ]
    }
   ],
   "source": [
    "print(\"max sequence length:\", max(len(s) for s in X))\n",
    "print(\"min sequence length:\", min(len(s) for s in X))\n",
    "s = sorted(len(s) for s in X)\n",
    "print(\"median sequence length:\", s[len(s) // 2])"
   ]
  },
  {
   "cell_type": "code",
   "execution_count": 0,
   "metadata": {
    "colab": {
     "base_uri": "https://localhost:8080/",
     "height": 34
    },
    "colab_type": "code",
    "executionInfo": {
     "elapsed": 78437,
     "status": "ok",
     "timestamp": 1572831913778,
     "user": {
      "displayName": "Yuan Hu",
      "photoUrl": "",
      "userId": "14204862805009818583"
     },
     "user_tz": 480
    },
    "id": "X2A-naXGkuAC",
    "outputId": "fe241d82-22dc-48b0-f4dd-2f89b1d0a3b1"
   },
   "outputs": [
    {
     "name": "stdout",
     "output_type": "stream",
     "text": [
      "Found 50942 unique tokens.\n"
     ]
    }
   ],
   "source": [
    "# Get word to integer mapping\n",
    "word2idx = tokenizer.word_index\n",
    "print('Found %s unique tokens.' % len(word2idx))"
   ]
  },
  {
   "cell_type": "code",
   "execution_count": 0,
   "metadata": {
    "colab": {
     "base_uri": "https://localhost:8080/",
     "height": 34
    },
    "colab_type": "code",
    "executionInfo": {
     "elapsed": 79201,
     "status": "ok",
     "timestamp": 1572831914552,
     "user": {
      "displayName": "Yuan Hu",
      "photoUrl": "",
      "userId": "14204862805009818583"
     },
     "user_tz": 480
    },
    "id": "yrfidtopnY-J",
    "outputId": "07756d81-8566-4480-f3bf-2cae70463273"
   },
   "outputs": [
    {
     "name": "stdout",
     "output_type": "stream",
     "text": [
      "Shape of X: (66806, 250)\n"
     ]
    }
   ],
   "source": [
    "# Pad sequences to get a fixed length for each sequence\n",
    "X = pad_sequences(X, maxlen=MAX_SEQUENCE_LENGTH)\n",
    "print('Shape of X:', X.shape)"
   ]
  },
  {
   "cell_type": "code",
   "execution_count": 0,
   "metadata": {
    "colab": {},
    "colab_type": "code",
    "id": "PdZrbh9oarY0"
   },
   "outputs": [],
   "source": [
    "# Create training set and test set\n",
    "def shuffle_train_test_split(X_all, y_all, shuffle=True, test_percent=20, random_state=10):\n",
    "    \n",
    "    if shuffle:\n",
    "      X_all_shuffled = []\n",
    "      y_all_shuffled = []\n",
    "      #for i in np.random.permutation(len(X_all)):\n",
    "      for i in np.random.RandomState(seed=random_state).permutation(len(X_all)):\n",
    "          X_all_shuffled.append(X_all[i])\n",
    "          y_all_shuffled.append(y_all[i])\n",
    "    else:\n",
    "      X_all_shuffled = X_all\n",
    "      y_all_shuffled = y_all\n",
    "\n",
    "    split_index = int(len(X_all) * (1.-(test_percent/100.)))\n",
    "    X_train, X_test = X_all_shuffled[:split_index], X_all_shuffled[split_index:]\n",
    "    y_train, y_test = y_all_shuffled[:split_index], y_all_shuffled[split_index:]\n",
    "\n",
    "    X_train = np.array(X_train)    \n",
    "    y_train = np.array(y_train)\n",
    "    X_test = np.array(X_test)\n",
    "    y_test = np.array(y_test)\n",
    "    \n",
    "    return X_train, y_train, X_test, y_test"
   ]
  },
  {
   "cell_type": "code",
   "execution_count": 0,
   "metadata": {
    "colab": {
     "base_uri": "https://localhost:8080/",
     "height": 84
    },
    "colab_type": "code",
    "executionInfo": {
     "elapsed": 79181,
     "status": "ok",
     "timestamp": 1572831914554,
     "user": {
      "displayName": "Yuan Hu",
      "photoUrl": "",
      "userId": "14204862805009818583"
     },
     "user_tz": 480
    },
    "id": "DTQBni9Ca93I",
    "outputId": "4cecb6c2-6b8e-4515-9435-968ec9c6dfec"
   },
   "outputs": [
    {
     "name": "stdout",
     "output_type": "stream",
     "text": [
      "Shape of X training set:  (53444, 250)\n",
      "Shape of y training set:  (53444, 11)\n",
      "Shape of X test set:  (13362, 250)\n",
      "Shape of y test set:  (13362, 11)\n"
     ]
    }
   ],
   "source": [
    "X_train, y_train, X_test, y_test = shuffle_train_test_split(X, y, test_percent=20)\n",
    "\n",
    "print(\"Shape of X training set: \", X_train.shape)\n",
    "print(\"Shape of y training set: \", y_train.shape)\n",
    "print(\"Shape of X test set: \", X_test.shape)\n",
    "print(\"Shape of y test set: \", y_test.shape)"
   ]
  },
  {
   "cell_type": "markdown",
   "metadata": {
    "colab_type": "text",
    "id": "CnmubjRiFwPf"
   },
   "source": [
    "## Prepare embedding layer"
   ]
  },
  {
   "cell_type": "code",
   "execution_count": 0,
   "metadata": {
    "colab": {},
    "colab_type": "code",
    "id": "t-UrMNzbn8dK"
   },
   "outputs": [],
   "source": [
    "# Prepare embedding matrix\n",
    "num_words = min(MAX_VOCAB_SIZE, len(word2idx) + 1)\n",
    "embedding_matrix = np.zeros((num_words, EMBEDDING_DIM))\n",
    "for word, i in word2idx.items():\n",
    "  if i < MAX_VOCAB_SIZE:\n",
    "    embedding_vector = word2vec.get(word)\n",
    "    if embedding_vector is not None:\n",
    "      # words not found in embedding index will be all zeros.\n",
    "      embedding_matrix[i] = embedding_vector"
   ]
  },
  {
   "cell_type": "code",
   "execution_count": 0,
   "metadata": {
    "colab": {},
    "colab_type": "code",
    "id": "GSQkAR70uowL"
   },
   "outputs": [],
   "source": [
    "# load pre-trained word embeddings into an embedding layer\n",
    "embedding_layer = Embedding(\n",
    "  num_words,\n",
    "  EMBEDDING_DIM,\n",
    "  weights=[embedding_matrix],\n",
    "  input_length=MAX_SEQUENCE_LENGTH,\n",
    "  trainable=False # set trainable = False to keep the embeddings fixed\n",
    ")"
   ]
  },
  {
   "cell_type": "markdown",
   "metadata": {
    "colab_type": "text",
    "id": "StduAVkbG1ZF"
   },
   "source": [
    "# Modeling"
   ]
  },
  {
   "cell_type": "markdown",
   "metadata": {
    "colab_type": "text",
    "id": "lCj7D04FvJFF"
   },
   "source": [
    "## Build the model"
   ]
  },
  {
   "cell_type": "code",
   "execution_count": 0,
   "metadata": {
    "colab": {},
    "colab_type": "code",
    "id": "2BVqYbmXvLym"
   },
   "outputs": [],
   "source": [
    "# Create an LSTM network \n",
    "ip = Input(shape=(MAX_SEQUENCE_LENGTH,))\n",
    "x = embedding_layer(ip)\n",
    "x = LSTM(128,name='lstm_layer1',return_sequences = True)(x) \n",
    "x = Dropout(0.25)(x)\n",
    "x = LSTM(128,name='lstm_layer2',return_sequences = True)(x)\n",
    "x = Dropout(0.25)(x)\n",
    "x = LSTM(128,name='lstm_layer')(x) # the last LSTM layer\n",
    "x = Dropout(0.25)(x)\n",
    "op = Dense(n_labels, activation=\"softmax\")(x)"
   ]
  },
  {
   "cell_type": "code",
   "execution_count": 0,
   "metadata": {
    "colab": {},
    "colab_type": "code",
    "id": "Le-zmeU8xzVQ"
   },
   "outputs": [],
   "source": [
    "classifier = Model(inputs = ip, outputs = op)\n",
    "classifier.compile(\n",
    "  loss='categorical_crossentropy',\n",
    "  optimizer='adam',\n",
    "  metrics=['accuracy']\n",
    ")"
   ]
  },
  {
   "cell_type": "code",
   "execution_count": 0,
   "metadata": {
    "colab": {
     "base_uri": "https://localhost:8080/",
     "height": 1000
    },
    "colab_type": "code",
    "executionInfo": {
     "elapsed": 80802,
     "status": "ok",
     "timestamp": 1572831916218,
     "user": {
      "displayName": "Yuan Hu",
      "photoUrl": "",
      "userId": "14204862805009818583"
     },
     "user_tz": 480
    },
    "id": "Pi4LgjD46mUz",
    "outputId": "f4911b21-2098-4123-d8ea-7c7097c7a257"
   },
   "outputs": [
    {
     "name": "stdout",
     "output_type": "stream",
     "text": [
      "Model: \"model\"\n",
      "_________________________________________________________________\n",
      "Layer (type)                 Output Shape              Param #   \n",
      "=================================================================\n",
      "input_1 (InputLayer)         [(None, 250)]             0         \n",
      "_________________________________________________________________\n",
      "embedding (Embedding)        (None, 250, 100)          2000000   \n",
      "_________________________________________________________________\n",
      "lstm_layer1 (UnifiedLSTM)    (None, 250, 128)          117248    \n",
      "_________________________________________________________________\n",
      "dropout (Dropout)            (None, 250, 128)          0         \n",
      "_________________________________________________________________\n",
      "lstm_layer2 (UnifiedLSTM)    (None, 250, 128)          131584    \n",
      "_________________________________________________________________\n",
      "dropout_1 (Dropout)          (None, 250, 128)          0         \n",
      "_________________________________________________________________\n",
      "lstm_layer (UnifiedLSTM)     (None, 128)               131584    \n",
      "_________________________________________________________________\n",
      "dropout_2 (Dropout)          (None, 128)               0         \n",
      "_________________________________________________________________\n",
      "dense (Dense)                (None, 11)                1419      \n",
      "=================================================================\n",
      "Total params: 2,381,835\n",
      "Trainable params: 381,835\n",
      "Non-trainable params: 2,000,000\n",
      "_________________________________________________________________\n",
      "None\n"
     ]
    },
    {
     "data": {
      "image/png": "[encoded data removed]",
      "text/plain": [
       "<IPython.core.display.Image object>"
      ]
     },
     "execution_count": 31,
     "metadata": {
      "tags": []
     },
     "output_type": "execute_result"
    }
   ],
   "source": [
    "print(classifier.summary())\n",
    "plot_model(classifier) # to_file='file_name.png'"
   ]
  },
  {
   "cell_type": "markdown",
   "metadata": {
    "colab_type": "text",
    "id": "vwhy6UvXytKc"
   },
   "source": [
    "## Train the model"
   ]
  },
  {
   "cell_type": "code",
   "execution_count": 0,
   "metadata": {
    "colab": {
     "base_uri": "https://localhost:8080/",
     "height": 726
    },
    "colab_type": "code",
    "executionInfo": {
     "elapsed": 2131694,
     "status": "ok",
     "timestamp": 1572833967122,
     "user": {
      "displayName": "Yuan Hu",
      "photoUrl": "",
      "userId": "14204862805009818583"
     },
     "user_tz": 480
    },
    "id": "j-h6fhOWyv8I",
    "outputId": "725215a0-341a-46fb-b7d6-243c4bd2fbb6"
   },
   "outputs": [
    {
     "name": "stdout",
     "output_type": "stream",
     "text": [
      "Train on 42755 samples, validate on 10689 samples\n",
      "Epoch 1/20\n",
      "42755/42755 [==============================] - 105s 2ms/sample - loss: 1.6871 - accuracy: 0.4057 - val_loss: 1.5844 - val_accuracy: 0.4770\n",
      "Epoch 2/20\n",
      "42755/42755 [==============================] - 102s 2ms/sample - loss: 1.6102 - accuracy: 0.4583 - val_loss: 1.6617 - val_accuracy: 0.4646\n",
      "Epoch 3/20\n",
      "42755/42755 [==============================] - 102s 2ms/sample - loss: 1.4563 - accuracy: 0.5244 - val_loss: 1.3091 - val_accuracy: 0.5783\n",
      "Epoch 4/20\n",
      "42755/42755 [==============================] - 103s 2ms/sample - loss: 1.3309 - accuracy: 0.5696 - val_loss: 1.2308 - val_accuracy: 0.5997\n",
      "Epoch 5/20\n",
      "42755/42755 [==============================] - 102s 2ms/sample - loss: 1.1746 - accuracy: 0.6214 - val_loss: 1.0973 - val_accuracy: 0.6379\n",
      "Epoch 6/20\n",
      "42755/42755 [==============================] - 102s 2ms/sample - loss: 1.0590 - accuracy: 0.6567 - val_loss: 1.0358 - val_accuracy: 0.6695\n",
      "Epoch 7/20\n",
      "42755/42755 [==============================] - 103s 2ms/sample - loss: 0.9844 - accuracy: 0.6821 - val_loss: 0.9383 - val_accuracy: 0.6941\n",
      "Epoch 8/20\n",
      "42755/42755 [==============================] - 102s 2ms/sample - loss: 0.9190 - accuracy: 0.7022 - val_loss: 0.8947 - val_accuracy: 0.7068\n",
      "Epoch 9/20\n",
      "42755/42755 [==============================] - 102s 2ms/sample - loss: 0.8653 - accuracy: 0.7203 - val_loss: 0.8190 - val_accuracy: 0.7384\n",
      "Epoch 10/20\n",
      "42755/42755 [==============================] - 102s 2ms/sample - loss: 0.8237 - accuracy: 0.7333 - val_loss: 0.7913 - val_accuracy: 0.7430\n",
      "Epoch 11/20\n",
      "42755/42755 [==============================] - 102s 2ms/sample - loss: 0.7742 - accuracy: 0.7496 - val_loss: 0.7453 - val_accuracy: 0.7636\n",
      "Epoch 12/20\n",
      "42755/42755 [==============================] - 103s 2ms/sample - loss: 0.7452 - accuracy: 0.7592 - val_loss: 0.7305 - val_accuracy: 0.7656\n",
      "Epoch 13/20\n",
      "42755/42755 [==============================] - 102s 2ms/sample - loss: 0.7102 - accuracy: 0.7692 - val_loss: 0.7094 - val_accuracy: 0.7720\n",
      "Epoch 14/20\n",
      "42755/42755 [==============================] - 102s 2ms/sample - loss: 0.6823 - accuracy: 0.7790 - val_loss: 0.6910 - val_accuracy: 0.7788\n",
      "Epoch 15/20\n",
      "42755/42755 [==============================] - 103s 2ms/sample - loss: 0.6556 - accuracy: 0.7876 - val_loss: 0.6738 - val_accuracy: 0.7833\n",
      "Epoch 16/20\n",
      "42755/42755 [==============================] - 103s 2ms/sample - loss: 0.6341 - accuracy: 0.7957 - val_loss: 0.6580 - val_accuracy: 0.7883\n",
      "Epoch 17/20\n",
      "42755/42755 [==============================] - 102s 2ms/sample - loss: 0.6069 - accuracy: 0.8033 - val_loss: 0.6467 - val_accuracy: 0.7910\n",
      "Epoch 18/20\n",
      "42755/42755 [==============================] - 103s 2ms/sample - loss: 0.5878 - accuracy: 0.8081 - val_loss: 0.6373 - val_accuracy: 0.7980\n",
      "Epoch 19/20\n",
      "42755/42755 [==============================] - 104s 2ms/sample - loss: 0.5688 - accuracy: 0.8161 - val_loss: 0.6270 - val_accuracy: 0.8029\n",
      "Epoch 20/20\n",
      "42755/42755 [==============================] - 102s 2ms/sample - loss: 0.5496 - accuracy: 0.8222 - val_loss: 0.6295 - val_accuracy: 0.8009\n"
     ]
    }
   ],
   "source": [
    "model = classifier.fit(\n",
    "  X_train,\n",
    "  y_train,\n",
    "  batch_size=BATCH_SIZE,\n",
    "  epochs=EPOCHS,\n",
    "  validation_split=VALIDATION_SPLIT\n",
    ")"
   ]
  },
  {
   "cell_type": "markdown",
   "metadata": {
    "colab_type": "text",
    "id": "x4cKsAo3wLGX"
   },
   "source": [
    "## Evaluation"
   ]
  },
  {
   "cell_type": "code",
   "execution_count": 0,
   "metadata": {
    "colab": {
     "base_uri": "https://localhost:8080/",
     "height": 67
    },
    "colab_type": "code",
    "executionInfo": {
     "elapsed": 2141470,
     "status": "ok",
     "timestamp": 1572833976910,
     "user": {
      "displayName": "Yuan Hu",
      "photoUrl": "",
      "userId": "14204862805009818583"
     },
     "user_tz": 480
    },
    "id": "aWB4FGjTnOZm",
    "outputId": "9cb4ef7b-b991-4c06-8ecf-2833ba04225a"
   },
   "outputs": [
    {
     "name": "stdout",
     "output_type": "stream",
     "text": [
      "13362/13362 [==============================] - 10s 741us/sample - loss: 0.6324 - accuracy: 0.8019\n",
      "Test set Loss: 0.632\n",
      "Test set Accuracy: 0.802\n"
     ]
    }
   ],
   "source": [
    "test_evaluation = classifier.evaluate(X_test, y_test, batch_size = BATCH_SIZE)\n",
    "print('Test set Loss: {:0.3f}\\nTest set Accuracy: {:0.3f}'.format(test_evaluation[0],test_evaluation[1]))"
   ]
  },
  {
   "cell_type": "code",
   "execution_count": 0,
   "metadata": {
    "colab": {
     "base_uri": "https://localhost:8080/",
     "height": 297
    },
    "colab_type": "code",
    "executionInfo": {
     "elapsed": 2142333,
     "status": "ok",
     "timestamp": 1572833977788,
     "user": {
      "displayName": "Yuan Hu",
      "photoUrl": "",
      "userId": "14204862805009818583"
     },
     "user_tz": 480
    },
    "id": "EWRh7pf0RW5b",
    "outputId": "e54ae24e-94aa-48eb-ae24-516975bd8238"
   },
   "outputs": [
    {
     "data": {
      "image/png": "[encoded data removed]",
      "text/plain": [
       "<Figure size 432x288 with 2 Axes>"
      ]
     },
     "metadata": {
      "tags": []
     },
     "output_type": "display_data"
    }
   ],
   "source": [
    "# Plot train and validation curves\n",
    "fig = plt.figure()\n",
    "plt.subplot(2,1,1)\n",
    "plt.plot(model.history['accuracy'])\n",
    "plt.plot(model.history['val_accuracy'])\n",
    "plt.title('model accuracy')\n",
    "plt.ylabel('accuracy')\n",
    "plt.xlabel('epoch')\n",
    "plt.legend(['train', 'validation'], loc='lower right')\n",
    "plt.subplot(2,1,2)\n",
    "plt.plot(model.history['loss'])\n",
    "plt.plot(model.history['val_loss'])\n",
    "plt.title('model loss')\n",
    "plt.ylabel('loss')\n",
    "plt.xlabel('epoch')\n",
    "plt.legend(['train', 'validation'], loc='upper right')\n",
    "plt.tight_layout()\n"
   ]
  },
  {
   "cell_type": "code",
   "execution_count": 0,
   "metadata": {
    "colab": {
     "base_uri": "https://localhost:8080/",
     "height": 34
    },
    "colab_type": "code",
    "executionInfo": {
     "elapsed": 2239530,
     "status": "ok",
     "timestamp": 1572834074999,
     "user": {
      "displayName": "Yuan Hu",
      "photoUrl": "",
      "userId": "14204862805009818583"
     },
     "user_tz": 480
    },
    "id": "7g4gA9krzQS4",
    "outputId": "b3196b9e-5407-434c-d610-745b4a886f57"
   },
   "outputs": [
    {
     "name": "stdout",
     "output_type": "stream",
     "text": [
      "Mean AUC over each label: 0.962 \n"
     ]
    }
   ],
   "source": [
    "# Mean AUC over each label\n",
    "y_predict = classifier.predict(X)\n",
    "auc = roc_auc_score(y, y_predict)\n",
    "aucs = []\n",
    "for j in range(n_labels):\n",
    "    auc = roc_auc_score(y[:,j], y_predict[:,j])\n",
    "    aucs.append(auc)\n",
    "print(\"Mean AUC over each label: {:0.3f} \".format(np.mean(aucs)))"
   ]
  }
 ],
 "metadata": {
  "accelerator": "GPU",
  "colab": {
   "collapsed_sections": [],
   "name": "classifier_rnn.ipynb",
   "provenance": []
  },
  "kernelspec": {
   "display_name": "Python 3",
   "language": "python",
   "name": "python3"
  },
  "language_info": {
   "codemirror_mode": {
    "name": "ipython",
    "version": 3
   },
   "file_extension": ".py",
   "mimetype": "text/x-python",
   "name": "python",
   "nbconvert_exporter": "python",
   "pygments_lexer": "ipython3",
   "version": "3.7.3"
  }
 },
 "nbformat": 4,
 "nbformat_minor": 1
}
